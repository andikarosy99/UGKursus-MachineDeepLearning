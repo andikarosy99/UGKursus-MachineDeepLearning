{
 "cells": [
  {
   "cell_type": "markdown",
   "metadata": {},
   "source": [
    "# Implementasi CNN untuk Image Classification menggunakan CIFAR-10\n",
    "\n",
    "Outline dari notebook ini dijabarkan sebagai berikut:\n",
    "\n",
    "1. **Pendahuluan**  \n",
    "  \n",
    "2. **Data pre-processing**  \n",
    "     2.1. Ekstraksi Dataset\n",
    "     2.2. Memeriksa Bentuk dan Tipe Data\n",
    "     2.3. Visualisasi  \n",
    "     2.4. Normalisasi  \n",
    "     2.5. One-Hot Encoding  \n",
    "     2.6. Memisahkan Data Training dan Data Validation      \n",
    "      \n",
    "3. **Convolutional Neural Network**  \n",
    "    3.1. Pendahuluan tentang CNN  \n",
    "    3.2. Membangun Arsitektur CNN dengan Keras  \n",
    "    3.3. Konfigurasi Kompilasi Model CNN  \n",
    "    3.4. Fitting Model CNN  \n",
    "\n",
    "4. **Analisis Hasil**  \n",
    "    4.1. Melakukan Visualisasi / Plotting Loss dan Accuracy  \n",
    "    4.2. Melakukan Visualisasi / Plotting Confusion Matrix  \n",
    "    4.4. Melakukan Visualisasi / Plotting Error  \n",
    "  \n",
    "5. **Prediksi Data Test dan Penyimpanan**  \n",
    "    5.1. Prediksi Data  \n",
    "    5.2. Menyimpan Hasil Prediksi dan Model CNN  "
   ]
  },
  {
   "cell_type": "markdown",
   "metadata": {},
   "source": [
    "<hr>\n",
    "# 1. Pendahuluan\n",
    "\n",
    "__CIFAR 10-Dataset__ merupakan sebuah dataset besar yang umumnya digunakan untuk melakukan training dan testing untuk bidang ilmu *Machine Learning*. Dataset CIFAR-10 terdiri dari 60.000 gambar berwarna (RGB) berukuran 32x32 untuk 10 kelas objek, 6.000 gambar untuk setiap kelas.\n",
    "\n",
    "<p>\n",
    "    <img src=\"cifar10_example.png\" > </img>\n",
    "</p>\n",
    "<p>\n",
    "    <center><em>Gambar 1. CIFAR-10 Dataset</em></center>\n",
    "</p>\n",
    "\n",
    "Pembagian label untuk dataset CIFAR-10 adalah sebagai berikut:\n",
    "\n",
    "0 : airplane <br>\n",
    "1 : automobile <br>\n",
    "2 : bird <br>\n",
    "3 : cat <br>\n",
    "4 : deer <br>\n",
    "5 : dog  <br>\n",
    "6 : frog  <br>\n",
    "7 : horse  <br>\n",
    "8 : ship  <br>\n",
    "9 : truck  <br>"
   ]
  },
  {
   "cell_type": "markdown",
   "metadata": {},
   "source": [
    "<hr>\n",
    "# 2. Data Pre-Processing\n",
    "\n",
    "Berikut adalah beberapa library yang digunakan untuk melakukan klasifikasi gambar pada notebook ini."
   ]
  },
  {
   "cell_type": "code",
   "execution_count": null,
   "metadata": {
    "collapsed": false,
    "scrolled": true
   },
   "outputs": [],
   "source": [
    "from __future__ import print_function\n",
    "\n",
    "import numpy as np\n",
    "\n",
    "from keras.callbacks import EarlyStopping\n",
    "from keras.models import Sequential\n",
    "from keras.layers.core import Dense, Dropout, Flatten\n",
    "from keras.layers.convolutional import Conv2D\n",
    "from keras.optimizers import Adam\n",
    "from keras.layers.pooling import MaxPooling2D\n",
    "from keras.utils import to_categorical\n",
    "from keras.layers.normalization import BatchNormalization\n"
   ]
  },
  {
   "cell_type": "markdown",
   "metadata": {},
   "source": [
    "Dataset yang digunakan kali ini berupa dataset CIFAR-10 yang sudah disediakan oleh library keras, sehingga dataset ini dapat langsung digunakan tanpa harus mengunduh data originalnya. \n",
    "\n",
    "Data original CIFAR-10 dapat diunduh di situs resmi: https://www.cs.toronto.edu/~kriz/cifar.html"
   ]
  },
  {
   "cell_type": "code",
   "execution_count": null,
   "metadata": {
    "collapsed": true
   },
   "outputs": [],
   "source": [
    "from keras.datasets import cifar10"
   ]
  },
  {
   "cell_type": "markdown",
   "metadata": {},
   "source": [
    "### Ekstraksi Dataset"
   ]
  },
  {
   "cell_type": "markdown",
   "metadata": {},
   "source": [
    "Dataset CIFAR-10 yang didapatkan langsung dari library ini memiliki struktur:\n",
    "\n",
    "    {(X_train, Y_train), (X_test, Y_test)}\n",
    "    \n",
    "dimana :\n",
    "\n",
    "X_train adalah data gambar sebagai input untuk proses training\n",
    "\n",
    "Y_train adalah label data untuk proses training\n",
    "\n",
    "X_test adalah data gambar sebagai input untuk proses testing\n",
    "\n",
    "Y_train adalah label data untuk proses testing"
   ]
  },
  {
   "cell_type": "code",
   "execution_count": null,
   "metadata": {
    "collapsed": false
   },
   "outputs": [],
   "source": [
    "# Load the dataset\n",
    "(X_train, Y_train), (X_test, Y_test) = cifar10.load_data()\n",
    "\n",
    "# mengambil 20.000 data pertama\n",
    "\n",
    "X_train = X_train[:20000]\n",
    "X_test = X_test[:20000]\n",
    "Y_train = Y_train[:20000]\n",
    "Y_test = Y_test[:20000]\n",
    "\n",
    "print(X_train.shape)\n",
    "print(X_test.shape)\n",
    "print(Y_test.shape)\n",
    "print(Y_train.shape)\n"
   ]
  },
  {
   "cell_type": "markdown",
   "metadata": {},
   "source": [
    "### Memeriksa Tipe Data"
   ]
  },
  {
   "cell_type": "code",
   "execution_count": null,
   "metadata": {
    "collapsed": false
   },
   "outputs": [],
   "source": [
    "# Lengkapi kode program\n",
    "\n",
    "# memeriksa tipe data\n",
    "\n"
   ]
  },
  {
   "cell_type": "markdown",
   "metadata": {},
   "source": [
    "### Memeriksa Bentuk Data"
   ]
  },
  {
   "cell_type": "code",
   "execution_count": null,
   "metadata": {
    "collapsed": false
   },
   "outputs": [],
   "source": [
    "# Lengkapi kode program\n",
    "\n",
    "# memeriksa bentuk data\n",
    "\n",
    "\n",
    "# memeriksa jumlah data\n",
    "\n"
   ]
  },
  {
   "cell_type": "markdown",
   "metadata": {},
   "source": []
  },
  {
   "cell_type": "code",
   "execution_count": null,
   "metadata": {
    "collapsed": false
   },
   "outputs": [],
   "source": [
    "# Lengkapi kode program\n",
    "\n",
    "# menampilkan data training pertama\n",
    "\n",
    "\n"
   ]
  },
  {
   "cell_type": "markdown",
   "metadata": {},
   "source": [
    "### Visualisasi"
   ]
  },
  {
   "cell_type": "code",
   "execution_count": null,
   "metadata": {
    "collapsed": false
   },
   "outputs": [],
   "source": [
    "# Lengkapi kode program \n",
    "\n",
    "# menampilkan gambar data training ke-lima\n",
    "from matplotlib import pyplot as plt\n",
    "\n",
    "\n"
   ]
  },
  {
   "cell_type": "markdown",
   "metadata": {},
   "source": [
    "### Normalisasi"
   ]
  },
  {
   "cell_type": "code",
   "execution_count": null,
   "metadata": {
    "collapsed": false
   },
   "outputs": [],
   "source": [
    "# Lengkapi kode program\n",
    "\n",
    "# melakukan normalisasi pada training data dan testing data\n",
    "\n",
    "\n",
    "\n",
    "# menampilkan data training pertama (yang sudah dinormalisasi)\n",
    "\n",
    "\n"
   ]
  },
  {
   "cell_type": "markdown",
   "metadata": {},
   "source": [
    "### One Hot Encoding"
   ]
  },
  {
   "cell_type": "markdown",
   "metadata": {},
   "source": [
    "\n",
    "<p>\n",
    "    <img src=\"one_hot.png\" width=700> </img>\n",
    "</p>\n",
    "<p>\n",
    "    <center><em>Gambar 2. One Hot Encoding untuk CIFAR-10 Dataset</em></center>\n",
    "</p>\n"
   ]
  },
  {
   "cell_type": "markdown",
   "metadata": {},
   "source": [
    "### Memisahkan Data Training dan Validasi"
   ]
  },
  {
   "cell_type": "code",
   "execution_count": null,
   "metadata": {
    "collapsed": false
   },
   "outputs": [],
   "source": [
    "# kita gunakan class train_test_split untuk melakukan pembagian secara otomatis\n",
    "from sklearn.model_selection import train_test_split\n",
    "\n",
    "# kita buat class untuk melakukan random\n",
    "seed = 2\n",
    "np.random.seed(seed)\n",
    "\n",
    "# kita pisahkan sebagian xtrain dan ytrain untuk xval dan yval\n",
    "\n",
    "\n",
    "# mengganti tipe label dengan to_categorical()\n"
   ]
  },
  {
   "cell_type": "markdown",
   "metadata": {},
   "source": [
    "<hr>\n",
    "# 3. CNN Model\n",
    "\n",
    "Proses selanjutnya adalah membuat model CNN untuk klasifikasi gambar objek. Arsitektur CNN yang akan dibuat pada program ini menggunakan arsitektur seperti yang terlihat di bawah ini: \n",
    "    \n",
    "<p>\n",
    "    <img src=\"cnn_arch.png\" width=930> </img>\n",
    "</p>\n",
    "<p>\n",
    "    <center><em>Gambar 3. Arsitektur CNN</em></center>\n",
    "</p>\n",
    "\n",
    "sumber: https://towardsdatascience.com/cifar-10-image-classification-in-tensorflow-5b501f7dc77c\n"
   ]
  },
  {
   "cell_type": "markdown",
   "metadata": {},
   "source": [
    "Arsitektur CNN:\n",
    "\n",
    "* Convolution dengan 64 filters ukuran (3x3), padding=same, strides=1\n",
    "\n",
    "\n",
    "* Max Pooling dengan ukuran 2 (strides=2)\n",
    "    - ReLU activation function\n",
    "    - Batch Normalization\n",
    "\n",
    "\n",
    "* Convolution dengan 128 filters ukuran (3x3), padding=same, strides=1\n",
    "\n",
    "\n",
    "* Max Pooling dengan ukuran 2 (strides=2)\n",
    "    - ReLU activation function\n",
    "    - Batch Normalization\n",
    "\n",
    "\n",
    "* Convolution dengan 256 filters ukuran (5x5), padding=same, strides=1\n",
    "\n",
    "\n",
    "* Max Pooling dengan ukuran 2 (strides=2)\n",
    "    - ReLU activation function\n",
    "    - Batch Normalization\n",
    "\n",
    "\n",
    "* Convolution dengan 512 filters ukuran (5x5), padding=same, strides=1\n",
    "\n",
    "\n",
    "* Max Pooling dengan ukuran 2 (strides=2)\n",
    "    - ReLU activation function\n",
    "    - Batch Normalization\n",
    "\n",
    "\n",
    "* Flattening the 3-D output\n",
    "\n",
    "\n",
    "* Fully Connected Layer dengan 128 unit\n",
    "    - Dropout\n",
    "    - Batch Normalization\n",
    "\n",
    "\n",
    "* Fully Connected Layer dengan 256 units\n",
    "    - Dropout\n",
    "    - Batch Normalization\n",
    "\n",
    "\n",
    "* Fully Connected Layer dengan 512 units\n",
    "    - Dropout\n",
    "    - Batch Normalization\n",
    "\n",
    "\n",
    "* Fully Connected Layer dengan 1024 units\n",
    "    - Dropout\n",
    "    - Batch Normalization\n",
    "\n",
    "\n",
    "* Fully Connected Layer dengan 10 unit (jumlah kelas)"
   ]
  },
  {
   "cell_type": "code",
   "execution_count": null,
   "metadata": {
    "collapsed": false
   },
   "outputs": [],
   "source": [
    "# Lengkapi kode program\n",
    "\n",
    "# model\n",
    "model = Sequential()\n",
    "\n",
    "# membuat arsitektur cnn\n",
    "\n",
    "\n",
    "\n"
   ]
  },
  {
   "cell_type": "code",
   "execution_count": null,
   "metadata": {
    "collapsed": false
   },
   "outputs": [],
   "source": [
    "# Lengkapi kode program\n",
    "\n",
    "# menampilkan model summary\n",
    "\n",
    "\n"
   ]
  },
  {
   "cell_type": "markdown",
   "metadata": {},
   "source": [
    "### Menentukan Konfigurasi Kompilasi CNN "
   ]
  },
  {
   "cell_type": "code",
   "execution_count": null,
   "metadata": {
    "collapsed": true
   },
   "outputs": [],
   "source": [
    "# Lengkapi kode program\n",
    "\n",
    "# Kompilasi model\n",
    "#    loss = categorical_crossentropy\n",
    "#    optimizer = adam\n",
    "#    learning rate = 0.001\n",
    "#    metrics = accuracy\n",
    "\n",
    "\n"
   ]
  },
  {
   "cell_type": "markdown",
   "metadata": {},
   "source": [
    "### Model Fitting"
   ]
  },
  {
   "cell_type": "code",
   "execution_count": null,
   "metadata": {
    "collapsed": false
   },
   "outputs": [],
   "source": [
    "# Lengkapi kode program\n",
    "\n",
    "# Fitting model\n",
    "#   batch_size = 128\n",
    "#   epoch = 3\n",
    "#   verbose = 1\n",
    "\n",
    "\n",
    "\n"
   ]
  },
  {
   "cell_type": "markdown",
   "metadata": {},
   "source": [
    "### Analisa Hasil"
   ]
  },
  {
   "cell_type": "code",
   "execution_count": null,
   "metadata": {
    "collapsed": false
   },
   "outputs": [],
   "source": [
    "# Lengkapi kode program\n",
    "\n",
    "#plot perbandingan training loss dan validation loss\n",
    "\n",
    "\n",
    "\n",
    "#plot perbandingan training acc dan validation acc\n",
    "\n",
    "\n"
   ]
  },
  {
   "cell_type": "markdown",
   "metadata": {},
   "source": [
    "#### Analisa\n",
    "\n",
    "Berikan analisa terhadap grafik di atas."
   ]
  },
  {
   "cell_type": "markdown",
   "metadata": {},
   "source": [
    "### Prediksi"
   ]
  },
  {
   "cell_type": "code",
   "execution_count": null,
   "metadata": {
    "collapsed": false
   },
   "outputs": [],
   "source": [
    "# Lengkapi kode program\n",
    "\n",
    "# prediksi kelas menggunakan model yang dibuat (verbose=1)\n",
    "\n"
   ]
  },
  {
   "cell_type": "code",
   "execution_count": null,
   "metadata": {
    "collapsed": false
   },
   "outputs": [],
   "source": [
    "# Lengkapi kode program\n",
    "\n",
    "# cetak informasi variable prediksi\n",
    "\n"
   ]
  },
  {
   "cell_type": "code",
   "execution_count": null,
   "metadata": {
    "collapsed": false
   },
   "outputs": [],
   "source": [
    "# Lengkapi kode program\n",
    "\n",
    "# menampilkan shape dari hasil prediksi\n",
    "\n",
    "\n",
    "\n",
    "# menyamakan dimensi\n",
    "\n",
    "\n",
    "# menampilkan shape hasil prediksi dan label ground-truth (Y_test)\n",
    "\n"
   ]
  },
  {
   "cell_type": "code",
   "execution_count": null,
   "metadata": {
    "collapsed": true
   },
   "outputs": [],
   "source": [
    "# Lengkapi kode program\n",
    "\n",
    "# menghitung kesalahan prediksi\n",
    "\n",
    "\n",
    "\n",
    "# menampilkan jumlah kesalahan\n",
    "\n",
    "\n",
    "# menghitung tingkat akurasi prediksi \n",
    "#   jumlah kesalahan/total hasil prediksi\n",
    "\n",
    "\n",
    "\n",
    "# menampilkan tingkat akurasi prediksi\n",
    "\n"
   ]
  },
  {
   "cell_type": "code",
   "execution_count": null,
   "metadata": {
    "collapsed": true
   },
   "outputs": [],
   "source": []
  }
 ],
 "metadata": {
  "anaconda-cloud": {},
  "kernelspec": {
   "display_name": "Python [conda env:anaconda3]",
   "language": "python",
   "name": "conda-env-anaconda3-py"
  },
  "language_info": {
   "codemirror_mode": {
    "name": "ipython",
    "version": 3
   },
   "file_extension": ".py",
   "mimetype": "text/x-python",
   "name": "python",
   "nbconvert_exporter": "python",
   "pygments_lexer": "ipython3",
   "version": "3.5.6"
  }
 },
 "nbformat": 4,
 "nbformat_minor": 1
}
