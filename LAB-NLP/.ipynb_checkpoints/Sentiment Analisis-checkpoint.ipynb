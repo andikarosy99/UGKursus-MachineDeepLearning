{
 "cells": [
  {
   "cell_type": "code",
   "execution_count": 27,
   "metadata": {},
   "outputs": [],
   "source": [
    "from pattern.en import polarity\n",
    "#import urllib2\n",
    "#import sys\n",
    "#reload(sys)\n",
    "#sys.setdefaultencoding(\"utf8\")\n",
    "from urllib.request import urlopen\n",
    "class SentimentAnalysis:\n",
    "    def Translate(self,to_translate, to_langage=\"auto\", langage=\"auto\"):\n",
    "        '''Return the translation using google translate\n",
    "        you must shortcut the langage you define (French = fr, English = en, Spanish = es, etc...)\n",
    "        if you don't define anything it will detect it or use english by default\n",
    "        Example:\n",
    "        print(translate(\"salut tu vas bien?\", \"en\"))\n",
    "        hello you alright?'''\n",
    "        agents = {'User-Agent':\"Mozilla/4.0 (compatible; MSIE 6.0; Windows NT 5.1; SV1; .NET CLR 1.1.4322; .NET CLR 2.0.50727; .NET CLR 3.0.04506.30)\"}\n",
    "        before_trans = 'class=\"t0\">'\n",
    "        to_translate = to_translate.replace(\"\\n\", \" \")\n",
    "        to_translate = to_translate.rstrip()\n",
    "        to_translate = to_translate.lstrip()\n",
    "        print (to_translate)\n",
    "        exit()\n",
    "        link = \"https://translate.google.com/#view=home&op=translate&sl=auto&tl=en&text=\" % (to_translate)\n",
    "        request = urlopen(link)\n",
    "        try:        \n",
    "            page = request.read()\n",
    "            result = page[page.find(before_trans)+len(before_trans):]\n",
    "            result = result.split(\"<\")[0]\n",
    "        except:\n",
    "            result = to_translate\n",
    "        return result    \n",
    "    \n",
    "    def SentimentScore(self,s,lang):\n",
    "        \"\"\"Caculate total sentiment score of a sentence\"\"\"\n",
    "        #docs here: http://www.clips.ua.ac.be/pages/pattern-en#sentiment\n",
    "        v = 0\n",
    "        for w in s.split(\".\"):\n",
    "            if lang != \"EN\":\n",
    "                m = self.Translate(w, 'en','auto');\n",
    "            else:\n",
    "                m = w\n",
    "            print (m)\n",
    "            m = m.strip(\",.!?)(#:;\\\"\\'\").lower()\n",
    "            x = polarity(m)       \n",
    "            print (x)\n",
    "            v = v + x \n",
    "        return v\n",
    "    \n"
   ]
  },
  {
   "cell_type": "code",
   "execution_count": 28,
   "metadata": {},
   "outputs": [
    {
     "ename": "TypeError",
     "evalue": "not all arguments converted during string formatting",
     "output_type": "error",
     "traceback": [
      "\u001b[0;31m---------------------------------------------------------------------------\u001b[0m",
      "\u001b[0;31mTypeError\u001b[0m                                 Traceback (most recent call last)",
      "\u001b[0;32m<ipython-input-28-99d5993a7fe9>\u001b[0m in \u001b[0;36m<module>\u001b[0;34m()\u001b[0m\n\u001b[1;32m      1\u001b[0m \u001b[0ms\u001b[0m\u001b[0;34m=\u001b[0m\u001b[0mSentimentAnalysis\u001b[0m\u001b[0;34m(\u001b[0m\u001b[0;34m)\u001b[0m\u001b[0;34m\u001b[0m\u001b[0m\n\u001b[1;32m      2\u001b[0m \u001b[0mpar\u001b[0m\u001b[0;34m=\u001b[0m \u001b[0;34m\"saya ganteng \"\u001b[0m\u001b[0;34m\u001b[0m\u001b[0m\n\u001b[0;32m----> 3\u001b[0;31m \u001b[0mhasil_score\u001b[0m\u001b[0;34m=\u001b[0m\u001b[0ms\u001b[0m\u001b[0;34m.\u001b[0m\u001b[0mSentimentScore\u001b[0m\u001b[0;34m(\u001b[0m\u001b[0mpar\u001b[0m\u001b[0;34m,\u001b[0m\u001b[0;34m'ID'\u001b[0m\u001b[0;34m)\u001b[0m\u001b[0;34m\u001b[0m\u001b[0m\n\u001b[0m\u001b[1;32m      4\u001b[0m \u001b[0mhasil_score\u001b[0m\u001b[0;34m\u001b[0m\u001b[0m\n",
      "\u001b[0;32m<ipython-input-27-d3f417662386>\u001b[0m in \u001b[0;36mSentimentScore\u001b[0;34m(self, s, lang)\u001b[0m\n\u001b[1;32m     34\u001b[0m         \u001b[0;32mfor\u001b[0m \u001b[0mw\u001b[0m \u001b[0;32min\u001b[0m \u001b[0ms\u001b[0m\u001b[0;34m.\u001b[0m\u001b[0msplit\u001b[0m\u001b[0;34m(\u001b[0m\u001b[0;34m\".\"\u001b[0m\u001b[0;34m)\u001b[0m\u001b[0;34m:\u001b[0m\u001b[0;34m\u001b[0m\u001b[0m\n\u001b[1;32m     35\u001b[0m             \u001b[0;32mif\u001b[0m \u001b[0mlang\u001b[0m \u001b[0;34m!=\u001b[0m \u001b[0;34m\"EN\"\u001b[0m\u001b[0;34m:\u001b[0m\u001b[0;34m\u001b[0m\u001b[0m\n\u001b[0;32m---> 36\u001b[0;31m                 \u001b[0mm\u001b[0m \u001b[0;34m=\u001b[0m \u001b[0mself\u001b[0m\u001b[0;34m.\u001b[0m\u001b[0mTranslate\u001b[0m\u001b[0;34m(\u001b[0m\u001b[0mw\u001b[0m\u001b[0;34m,\u001b[0m \u001b[0;34m'en'\u001b[0m\u001b[0;34m,\u001b[0m\u001b[0;34m'auto'\u001b[0m\u001b[0;34m)\u001b[0m\u001b[0;34m;\u001b[0m\u001b[0;34m\u001b[0m\u001b[0m\n\u001b[0m\u001b[1;32m     37\u001b[0m             \u001b[0;32melse\u001b[0m\u001b[0;34m:\u001b[0m\u001b[0;34m\u001b[0m\u001b[0m\n\u001b[1;32m     38\u001b[0m                 \u001b[0mm\u001b[0m \u001b[0;34m=\u001b[0m \u001b[0mw\u001b[0m\u001b[0;34m\u001b[0m\u001b[0m\n",
      "\u001b[0;32m<ipython-input-27-d3f417662386>\u001b[0m in \u001b[0;36mTranslate\u001b[0;34m(self, to_translate, to_langage, langage)\u001b[0m\n\u001b[1;32m     18\u001b[0m         \u001b[0mto_translate\u001b[0m \u001b[0;34m=\u001b[0m \u001b[0mto_translate\u001b[0m\u001b[0;34m.\u001b[0m\u001b[0mrstrip\u001b[0m\u001b[0;34m(\u001b[0m\u001b[0;34m)\u001b[0m\u001b[0;34m\u001b[0m\u001b[0m\n\u001b[1;32m     19\u001b[0m         \u001b[0mto_translate\u001b[0m \u001b[0;34m=\u001b[0m \u001b[0mto_translate\u001b[0m\u001b[0;34m.\u001b[0m\u001b[0mlstrip\u001b[0m\u001b[0;34m(\u001b[0m\u001b[0;34m)\u001b[0m\u001b[0;34m\u001b[0m\u001b[0m\n\u001b[0;32m---> 20\u001b[0;31m         \u001b[0mlink\u001b[0m \u001b[0;34m=\u001b[0m \u001b[0;34m\"https://translate.google.com/#view=home&op=translate&sl=auto&tl=en&text=\"\u001b[0m \u001b[0;34m%\u001b[0m \u001b[0;34m(\u001b[0m\u001b[0mto_translate\u001b[0m\u001b[0;34m)\u001b[0m\u001b[0;34m\u001b[0m\u001b[0m\n\u001b[0m\u001b[1;32m     21\u001b[0m         \u001b[0mrequest\u001b[0m \u001b[0;34m=\u001b[0m \u001b[0murlopen\u001b[0m\u001b[0;34m(\u001b[0m\u001b[0mlink\u001b[0m\u001b[0;34m)\u001b[0m\u001b[0;34m\u001b[0m\u001b[0m\n\u001b[1;32m     22\u001b[0m         \u001b[0;32mtry\u001b[0m\u001b[0;34m:\u001b[0m\u001b[0;34m\u001b[0m\u001b[0m\n",
      "\u001b[0;31mTypeError\u001b[0m: not all arguments converted during string formatting"
     ]
    }
   ],
   "source": [
    "s=SentimentAnalysis()    \n",
    "par= \"saya ganteng \"    \n",
    "hasil_score=s.SentimentScore(par,'ID')\n",
    "hasil_score"
   ]
  },
  {
   "cell_type": "code",
   "execution_count": null,
   "metadata": {},
   "outputs": [],
   "source": []
  }
 ],
 "metadata": {
  "kernelspec": {
   "display_name": "Python 3.6",
   "language": "python",
   "name": "python_3.6"
  },
  "language_info": {
   "codemirror_mode": {
    "name": "ipython",
    "version": 3
   },
   "file_extension": ".py",
   "mimetype": "text/x-python",
   "name": "python",
   "nbconvert_exporter": "python",
   "pygments_lexer": "ipython3",
   "version": "3.6.5"
  }
 },
 "nbformat": 4,
 "nbformat_minor": 2
}
