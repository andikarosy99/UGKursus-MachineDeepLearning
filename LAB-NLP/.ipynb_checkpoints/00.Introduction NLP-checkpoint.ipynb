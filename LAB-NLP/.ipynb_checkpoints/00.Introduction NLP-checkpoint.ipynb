{
 "cells": [
  {
   "cell_type": "markdown",
   "metadata": {},
   "source": [
    "# Natural Language Proccessing\n",
    "\n",
    "Bahasa adalah suatu sistem untuk komunikasi yang terdiri atas simbol dan aturan yang digunakan untuk mengekspresikan ide, pikiran dan perasaan.\n",
    "Natural Language Processing (NLP) atau pengolahan bahasa alami sebagai salah satu bidang ilmu Artificial Inteligence (AI), mempelajari komunikasi antara manusia dengan komputer untuk memahami arti dari teks/tulisan yang diberikan dalam format bahasa alami dan memberikan respon yang sesuai, misalnya dengan melakukan suatu aksi tertentu atau menampilkan data tertentu. Bahasa dapat dibedakan menjadi 2:\n",
    "\n",
    "1. **Bahasa alami**. Bahasa alami adalah bahasa yang biasa digunakan untuk berkomunikasi antar manusia, misalnya Bahasa Indonesia, Sunda, Jawa, Inggris, Jepang dan sebagainya.  \n",
    "\n",
    "2. **Bahasa buatan**. Bahasa buatan adalah bahasa yang dibuat secara khusus untuk memenuhi kebutuhan tertentu, misalnya bahasa pemodelan atau bahasa pemrograman komputer\n",
    "\n"
   ]
  },
  {
   "cell_type": "markdown",
   "metadata": {},
   "source": [
    "## Masalah NLP\n",
    "Bahasa alami merupakan fenomena yang kompleks, melibatkan berbagai proses, misal: pengenalan suara atau huruf tercetak, parsing sintak, inferensi semantik tingkat tinggi dan komunikasi dari isi emosional melalui ritme serta inflection (perubahan nada suara).\n",
    " Untuk mengatasi kompleksitas ini maka para ahli bahasa telah mendefinisikan tingkat analisis yang berbeda untuk bahasa alami:\n",
    "1. **Prosody**, mengerjakan ritme dan intonasi bahasa\n",
    "2. **Phonology**, menguji suara yang dikombinasikan untuk membentuk bahasa\n",
    "3. **Morphology**, mengenai komponen-komponen (morfem-morfem) yang membentuk kata-kata. Termasuk aturan pengembangan formasi kata-kata seperti efekdari prefik(un-, non-,anti-,dll), & sufiks (-ing,-ly,dll) yang memodifikasi arti dari akar kata.\n",
    "4. **Syntax**, pemahaman tentang urutan kata dalam pembentukan kalimat dan hubungan antar kata tersebut dalam proses perubahan bentuk dari kalimat menjadi bentuk yang sistematis. Selain itu dapat pula dikenali bagian-bagian kalimat dalam suatu kalimat yang lebih besar. Sebagai contoh kalimat S dibentuk dari noun phrase (NP) dan verb phrase (VP)\n",
    "5. **Semantics**, pemetaan bentuk struktur sintaksis dengan memanfaatkan tiap kata ke dalam bentuk yang lebih mendasar dan tidak tergantung struktur kalimat. Semantik mempelajari arti suatu kata dan bagaimana dari arti kata-kata tersebut membentuk suatu arti dari kalimat yang utuh. \n",
    "6. **Pragmatics**, merupakan studi cara dimana bahasa digunakan & efeknya pada pendengar. \n",
    "7. **World Knowledge**, mencakup arti sebuah kata secara umum dan apakah ada arti khusus bagi suatu kata dalam suatu percakapan dengan konteks tertentu."
   ]
  },
  {
   "cell_type": "markdown",
   "metadata": {},
   "source": [
    "## Analisis NLP\n",
    "Secara umum, ada tiga tahapan untuk analisis pemahaman bahasa alami yaitu : \n",
    "1. **Parsing (penguraian)** merupakan tindakan menganalisa struktur sintaks kalimat. Parsing tidak hanya membuktikan bahwa kalimat dapat dibentuk secara sintaksis, tetapi juga dapat menentukan struktur lingustiknya. Dengan mengindentifikasi hubungan-hubungan lingustik utamanya seperti subjek-verb, verb-objek, dan noun-modifier, maka penguraian(parser) memberikan suatu kerangka/bentuk diagram bagi interprestasi semantik dan hal ini sering kali digambarkan dalam pohon pengurai (parse tree). Penguraian menggunakan pengetahuan sintaks bahasa, morfologi dan beberapa semantik bahasa.\n",
    "\n",
    "2. **Interpretasi semantik**, pada tahap ini menghasilkan suatu representasi arti dari teks. Representasi lain umumnya digunakan, meliputi ketergantungan konseptual, bingkai dan representasi berbasis logika. Interpretasi semantik menggunakan pengetahuan tentang arti kata dan struktur linguistiknya, seperti peranan kata benda atau transitivitas kata kerja. Tahap ini juga melakukan pengujian konsistensi semantik. \n",
    "\n",
    "3. **Struktur-struktur* dari basis pengetahuan ditambahkan pada represen- tasi kalimat untuk menghasilkan representasi perluasan dari arti kalimat. Struktur yang dihasilkan merepresentasikan makna dari teks bahasa alami dan digunakan oleh sistem untuk pemrosesan lebih jauh. "
   ]
  },
  {
   "cell_type": "markdown",
   "metadata": {},
   "source": [
    "## Proses NLP\n",
    "Tahapan NLP secara umum dibagi menjadi beberapa tahapan, yaitu\n",
    "1. **Morphological analysis**, dimana kata secara individu dianalisis ke dalam komponen-komponennya dan yang bukan kata (seperti tanda baca) dipisahkan dari kata. \n",
    "\n",
    "2. **Syntactic analysis**, urutan linier dari kata ditransformasikan ke dalam struktur yang menunjukkan bagaimana kata saling berhubungan. Urutan kata yang melanggar aturan bahasa dalam pengkombinasian kata, akan ditolak. \n",
    "\n",
    "3. **Discourse integration**, dimana arti dari kalimat secara individu bergantung pada kalimat-kalimat yang mendahului & mungkin dapat mempengaruhi arti dari kalimat-kalimat yang mengikutinya. \n",
    "\n",
    "4. **Discourse integration**, dimana arti dari kalimat secara individu bergantung pada kalimat-kalimat yang mendahului & mungkin dapat mempengaruhi arti dari kalimat-kalimat yang mengikutinya."
   ]
  }
 ],
 "metadata": {
  "kernelspec": {
   "display_name": "Python 3.6",
   "language": "python",
   "name": "python_3.6"
  },
  "language_info": {
   "codemirror_mode": {
    "name": "ipython",
    "version": 3
   },
   "file_extension": ".py",
   "mimetype": "text/x-python",
   "name": "python",
   "nbconvert_exporter": "python",
   "pygments_lexer": "ipython3",
   "version": "3.6.5"
  }
 },
 "nbformat": 4,
 "nbformat_minor": 2
}
