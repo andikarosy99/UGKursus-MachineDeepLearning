{
 "cells": [
  {
   "cell_type": "code",
   "execution_count": 1,
   "metadata": {},
   "outputs": [],
   "source": [
    "import word2vec\n",
    "import pprint\n",
    "import numpy"
   ]
  },
  {
   "cell_type": "code",
   "execution_count": 2,
   "metadata": {},
   "outputs": [],
   "source": [
    "model = word2vec.getModel()"
   ]
  },
  {
   "cell_type": "code",
   "execution_count": 5,
   "metadata": {},
   "outputs": [
    {
     "name": "stdout",
     "output_type": "stream",
     "text": [
      "230881\n"
     ]
    }
   ],
   "source": [
    "print (model.wv.vocab['goblok'].index)\n",
    "#print (model.wv.index2word[979])"
   ]
  },
  {
   "cell_type": "code",
   "execution_count": 11,
   "metadata": {},
   "outputs": [
    {
     "data": {
      "text/plain": [
       "[('auditor', 0.823650062084198),\n",
       " ('auditing', 0.8200103044509888),\n",
       " ('reviu', 0.8090580701828003),\n",
       " ('kepabeanan', 0.7935831546783447),\n",
       " ('mengaudit', 0.7899371385574341),\n",
       " ('diaudit', 0.7837123274803162),\n",
       " ('karikpa', 0.7801945209503174),\n",
       " ('verifikator', 0.7758568525314331),\n",
       " ('akuntabilitas', 0.774691641330719),\n",
       " ('penatausahaan', 0.7721816301345825)]"
      ]
     },
     "execution_count": 11,
     "metadata": {},
     "output_type": "execute_result"
    }
   ],
   "source": [
    "model.wv.most_similar(u'audit')"
   ]
  },
  {
   "cell_type": "code",
   "execution_count": 8,
   "metadata": {},
   "outputs": [
    {
     "data": {
      "text/plain": [
       "0.48845157704711434"
      ]
     },
     "execution_count": 8,
     "metadata": {},
     "output_type": "execute_result"
    }
   ],
   "source": [
    "model.wv.similarity(u'sdm',u'pegawai')"
   ]
  },
  {
   "cell_type": "code",
   "execution_count": 5,
   "metadata": {},
   "outputs": [
    {
     "data": {
      "text/plain": [
       "312988"
      ]
     },
     "execution_count": 5,
     "metadata": {},
     "output_type": "execute_result"
    }
   ],
   "source": [
    "len(model.wv.vocab)"
   ]
  },
  {
   "cell_type": "code",
   "execution_count": 6,
   "metadata": {},
   "outputs": [
    {
     "data": {
      "text/plain": [
       "(100,)"
      ]
     },
     "execution_count": 6,
     "metadata": {},
     "output_type": "execute_result"
    }
   ],
   "source": [
    "numpy.shape(model['as'])"
   ]
  },
  {
   "cell_type": "code",
   "execution_count": 54,
   "metadata": {},
   "outputs": [],
   "source": [
    "tes=model['tes']\n",
    "a =numpy.array(tes)\n",
    "b=a.tolist()"
   ]
  },
  {
   "cell_type": "code",
   "execution_count": 57,
   "metadata": {},
   "outputs": [
    {
     "data": {
      "text/plain": [
       "[('tes', 1.0000001192092896),\n",
       " ('uji', 0.794386088848114),\n",
       " ('pengujian', 0.7647902965545654),\n",
       " ('psikotes', 0.7405344843864441),\n",
       " ('diuji', 0.7140485644340515),\n",
       " ('widal', 0.7000560164451599),\n",
       " ('serologis', 0.6837780475616455),\n",
       " ('treadmill', 0.6832187175750732),\n",
       " ('pengetesan', 0.6830530762672424),\n",
       " ('audiometri', 0.6826976537704468)]"
      ]
     },
     "execution_count": 57,
     "metadata": {},
     "output_type": "execute_result"
    }
   ],
   "source": [
    "model.wv.similar_by_vector(numpy.array(tes))\n"
   ]
  },
  {
   "cell_type": "code",
   "execution_count": 63,
   "metadata": {},
   "outputs": [
    {
     "data": {
      "text/plain": [
       "array([-0.09385207,  0.18259279, -0.0460639 ,  0.12380596, -0.0115608 ,\n",
       "        0.01401428,  0.0743626 ,  0.08603098, -0.03320469, -0.03257916,\n",
       "       -0.06003109, -0.30037624, -0.01466291,  0.05690798,  0.02834373,\n",
       "       -0.10865548,  0.0544113 , -0.05926913,  0.01782119,  0.04868079,\n",
       "       -0.08055526, -0.05348716,  0.11761907,  0.06905312, -0.01419334,\n",
       "        0.06743135, -0.05270787, -0.18936889, -0.06025846, -0.01941646,\n",
       "        0.06427129,  0.07743663,  0.16826752,  0.03318866,  0.01759041,\n",
       "        0.04552786,  0.08588093,  0.0057183 ,  0.10171269, -0.06630729,\n",
       "       -0.00526177,  0.05660038,  0.03954445,  0.08937445, -0.21779232,\n",
       "       -0.05239239,  0.10269152,  0.03000382, -0.07668697, -0.011222  ,\n",
       "       -0.00460936,  0.00155866, -0.06083831, -0.00537107,  0.14780131,\n",
       "       -0.1531668 , -0.02301776,  0.08024816,  0.12229068,  0.11785979,\n",
       "        0.03362649, -0.00302904,  0.00652277,  0.19193712, -0.19001633,\n",
       "        0.0266967 , -0.12265149,  0.02459158,  0.00150533, -0.05868624,\n",
       "       -0.08231569,  0.03723928, -0.1164038 , -0.24714673, -0.04224476,\n",
       "        0.03196508, -0.00238026, -0.0329436 , -0.05278565, -0.07337119,\n",
       "        0.05520134,  0.00446506,  0.03241284,  0.22304595, -0.10511891,\n",
       "       -0.15398657,  0.18457176, -0.1034369 , -0.18576168, -0.00034679,\n",
       "        0.21428846, -0.14317547,  0.05068218, -0.13430956,  0.01243851,\n",
       "       -0.01652695, -0.07423266, -0.03776972,  0.14279355,  0.17242709], dtype=float32)"
      ]
     },
     "execution_count": 63,
     "metadata": {},
     "output_type": "execute_result"
    }
   ],
   "source": [
    "try: \n",
    "    tes=model['sayang']\n",
    "except:\n",
    "    tes=numpy.array([0 for _ in range(100)])\n",
    "tes"
   ]
  },
  {
   "cell_type": "code",
   "execution_count": 62,
   "metadata": {},
   "outputs": [
    {
     "ename": "SyntaxError",
     "evalue": "Missing parentheses in call to 'print'. Did you mean print(model.vocab[u'עם'])? (<ipython-input-62-3e269dc91df6>, line 3)",
     "output_type": "error",
     "traceback": [
      "\u001b[0;36m  File \u001b[0;32m\"<ipython-input-62-3e269dc91df6>\"\u001b[0;36m, line \u001b[0;32m3\u001b[0m\n\u001b[0;31m    print model.vocab[u'עם']\u001b[0m\n\u001b[0m              ^\u001b[0m\n\u001b[0;31mSyntaxError\u001b[0m\u001b[0;31m:\u001b[0m Missing parentheses in call to 'print'. Did you mean print(model.vocab[u'עם'])?\n"
     ]
    }
   ],
   "source": [
    "#most popular words\n",
    "\n",
    "print model.vocab[u'עם']\n",
    "print model.vocab[u'קטגוריה']\n",
    "print model.vocab[u'הוא']\n",
    "print model.vocab[u'על']\n",
    "print model.vocab[u'את']\n",
    "\n",
    "# note: קטגוריה popularity is due to the Wikipedia bias"
   ]
  },
  {
   "cell_type": "code",
   "execution_count": 8,
   "metadata": {},
   "outputs": [
    {
     "data": {
      "text/plain": [
       "447648"
      ]
     },
     "execution_count": 8,
     "metadata": {},
     "output_type": "execute_result"
    }
   ],
   "source": [
    "# words in vocabulary\n",
    "\n",
    "len(model.vocab)"
   ]
  },
  {
   "cell_type": "code",
   "execution_count": 64,
   "metadata": {},
   "outputs": [
    {
     "name": "stdout",
     "output_type": "stream",
     "text": [
      "את\n"
     ]
    }
   ],
   "source": [
    "print model.index2word[1]"
   ]
  },
  {
   "cell_type": "code",
   "execution_count": 48,
   "metadata": {},
   "outputs": [
    {
     "name": "stdout",
     "output_type": "stream",
     "text": [
      "עבודה\n"
     ]
    }
   ],
   "source": [
    "\n",
    "print model.doesnt_match(u'ביבי נתניהו ליכוד עבודה'.split())"
   ]
  },
  {
   "cell_type": "code",
   "execution_count": 65,
   "metadata": {},
   "outputs": [
    {
     "name": "stdout",
     "output_type": "stream",
     "text": [
      "טוגנים\n"
     ]
    }
   ],
   "source": [
    "print model.doesnt_match(u'לילה בוקר ערב צהריים טוגנים'.split())"
   ]
  },
  {
   "cell_type": "code",
   "execution_count": 77,
   "metadata": {},
   "outputs": [
    {
     "name": "stdout",
     "output_type": "stream",
     "text": [
      "צלחת\n"
     ]
    }
   ],
   "source": [
    "print model.doesnt_match(u'סוס כלב אריה צלחת ציפור ליוויתן חתול '.split())"
   ]
  },
  {
   "cell_type": "code",
   "execution_count": 52,
   "metadata": {},
   "outputs": [
    {
     "name": "stdout",
     "output_type": "stream",
     "text": [
      "אישה\n"
     ]
    }
   ],
   "source": [
    "print model.most_similar(u'גבר', topn=1)[0][0]"
   ]
  },
  {
   "cell_type": "code",
   "execution_count": 75,
   "metadata": {},
   "outputs": [
    {
     "name": "stdout",
     "output_type": "stream",
     "text": [
      "אשה\n"
     ]
    }
   ],
   "source": [
    "print model.most_similar(u'אישה', topn=1)[0][0]"
   ]
  },
  {
   "cell_type": "code",
   "execution_count": 62,
   "metadata": {},
   "outputs": [
    {
     "data": {
      "text/plain": [
       "0.76913180957635829"
      ]
     },
     "execution_count": 62,
     "metadata": {},
     "output_type": "execute_result"
    }
   ],
   "source": [
    " model.similarity(u'גבר', u'אישה')"
   ]
  },
  {
   "cell_type": "code",
   "execution_count": 78,
   "metadata": {},
   "outputs": [
    {
     "data": {
      "text/plain": [
       "0.58290303209297922"
      ]
     },
     "execution_count": 78,
     "metadata": {},
     "output_type": "execute_result"
    }
   ],
   "source": [
    "model.similarity(u'ילד', u'אישה')"
   ]
  },
  {
   "cell_type": "code",
   "execution_count": 86,
   "metadata": {},
   "outputs": [
    {
     "data": {
      "text/plain": [
       "0.5381007190955287"
      ]
     },
     "execution_count": 86,
     "metadata": {},
     "output_type": "execute_result"
    }
   ],
   "source": [
    "model.similarity(u'יפה', u'אישה')"
   ]
  },
  {
   "cell_type": "code",
   "execution_count": 61,
   "metadata": {},
   "outputs": [
    {
     "name": "stdout",
     "output_type": "stream",
     "text": [
      "נסיכת\n"
     ]
    }
   ],
   "source": [
    "print model.most_similar(positive=[u'אישה',u'מלך'], negative=[u'גבר'], topn=1)[0][0]"
   ]
  },
  {
   "cell_type": "code",
   "execution_count": 88,
   "metadata": {},
   "outputs": [
    {
     "name": "stdout",
     "output_type": "stream",
     "text": [
      "ישראל\n"
     ]
    }
   ],
   "source": [
    "print model.most_similar(positive=[u'ירושלים',u'גרמניה'], negative=[u'ברלין'], topn=1)[0][0]"
   ]
  },
  {
   "cell_type": "code",
   "execution_count": 89,
   "metadata": {},
   "outputs": [
    {
     "name": "stdout",
     "output_type": "stream",
     "text": [
      "אנגליה\n"
     ]
    }
   ],
   "source": [
    "print model.most_similar(positive=[u'לונדון',u'גרמניה'], negative=[u'ברלין'], topn=1)[0][0]"
   ]
  },
  {
   "cell_type": "code",
   "execution_count": 92,
   "metadata": {},
   "outputs": [
    {
     "name": "stdout",
     "output_type": "stream",
     "text": [
      "נורווגיה\n"
     ]
    }
   ],
   "source": [
    "print model.most_similar(positive=[u'אוסלו',u'גרמניה'], negative=[u'ברלין'], topn=1)[0][0]"
   ]
  },
  {
   "cell_type": "code",
   "execution_count": null,
   "metadata": {
    "collapsed": true
   },
   "outputs": [],
   "source": []
  }
 ],
 "metadata": {
  "kernelspec": {
   "display_name": "Python 3",
   "language": "python",
   "name": "python3"
  },
  "language_info": {
   "codemirror_mode": {
    "name": "ipython",
    "version": 3
   },
   "file_extension": ".py",
   "mimetype": "text/x-python",
   "name": "python",
   "nbconvert_exporter": "python",
   "pygments_lexer": "ipython3",
   "version": "3.6.5"
  }
 },
 "nbformat": 4,
 "nbformat_minor": 1
}
